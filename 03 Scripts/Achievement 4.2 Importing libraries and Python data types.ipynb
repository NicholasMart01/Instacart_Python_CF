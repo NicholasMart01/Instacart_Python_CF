{
 "cells": [
  {
   "cell_type": "markdown",
   "id": "79ea81af-bd9f-4338-b942-3334fdbb0065",
   "metadata": {},
   "source": [
    "# Importing"
   ]
  },
  {
   "cell_type": "code",
   "execution_count": 2,
   "id": "4f285dc5-0dad-441c-af6e-23f2af472153",
   "metadata": {},
   "outputs": [],
   "source": [
    "#importing libraries\n",
    "import pandas as pd\n",
    "import numpy as np\n",
    "import os"
   ]
  },
  {
   "cell_type": "markdown",
   "id": "3097f663",
   "metadata": {},
   "source": [
    "# Task "
   ]
  },
  {
   "cell_type": "code",
   "execution_count": 9,
   "id": "f195f91e-59ba-425d-b522-96eb1f7c5520",
   "metadata": {},
   "outputs": [
    {
     "name": "stdout",
     "output_type": "stream",
     "text": [
      "100 100 100 0.2508551881413911\n",
      "can This is a little silly I guess it's good practice\n",
      "cancancancancancancancancancancancancancancancancancancancancancancancancancancancancancancancancancancancancancancancancancancancancancancancancancancancancancancancancancancancancancancancancancancancancancancancancancancancancancancancancancancancancancancancancancancancancancancancancancancancan\n"
     ]
    }
   ],
   "source": [
    "#Testing data types \n",
    "x = 100+0\n",
    "y = 45+5+50\n",
    "z = 120-20\n",
    "a = 4.4\n",
    "b = 17.54\n",
    "a/b\n",
    "s = 'c'+'an'\n",
    "s1 = 'This is' +' a little silly'\n",
    "s2 =\"I guess it's good\" + \" practice\"\n",
    "print(x,y,z,(a/b))\n",
    "print(s, s1, s2)\n",
    "print(s*100)"
   ]
  },
  {
   "cell_type": "code",
   "execution_count": null,
   "id": "cbbe078b-08f0-40dd-b6aa-32491347b7d0",
   "metadata": {},
   "outputs": [],
   "source": []
  }
 ],
 "metadata": {
  "kernelspec": {
   "display_name": "Python 3 (ipykernel)",
   "language": "python",
   "name": "python3"
  },
  "language_info": {
   "codemirror_mode": {
    "name": "ipython",
    "version": 3
   },
   "file_extension": ".py",
   "mimetype": "text/x-python",
   "name": "python",
   "nbconvert_exporter": "python",
   "pygments_lexer": "ipython3",
   "version": "3.12.3"
  },
  "toc": {
   "base_numbering": 1,
   "nav_menu": {},
   "number_sections": true,
   "sideBar": true,
   "skip_h1_title": false,
   "title_cell": "Table of Contents",
   "title_sidebar": "Contents",
   "toc_cell": false,
   "toc_position": {
    "height": "calc(100% - 180px)",
    "left": "10px",
    "top": "150px",
    "width": "639.5px"
   },
   "toc_section_display": true,
   "toc_window_display": true
  }
 },
 "nbformat": 4,
 "nbformat_minor": 5
}
