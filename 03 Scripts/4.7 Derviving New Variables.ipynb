{
 "cells": [
  {
   "cell_type": "markdown",
   "id": "43825cb6-fb24-42d8-8fb5-e53b5585d07b",
   "metadata": {},
   "source": [
    "# Importing"
   ]
  },
  {
   "cell_type": "code",
   "execution_count": 1,
   "id": "bad40486-d560-4b0c-9d1e-91a0078c439b",
   "metadata": {},
   "outputs": [],
   "source": [
    "#importing data and libraries \n",
    "import pandas as pd\n",
    "import numpy as np \n",
    "import os\n",
    "path = r'C:\\Users\\Administrator\\Desktop\\Projects (Carrer foundry)\\Achievement 4 (J)'\n",
    "df_prods = pd.read_csv(os.path.join(path, '02 Data','Prepared Data','products_checked.csv'), index_col= False)\n",
    "df_combined = pd.read_pickle(os.path.join(path, '02 Data','Prepared Data','df_combined.pkl'))"
   ]
  },
  {
   "cell_type": "markdown",
   "id": "f6dcce43-d167-4b45-a507-e041646e7daa",
   "metadata": {},
   "source": [
    "## Start of the Exercise"
   ]
  },
  {
   "cell_type": "code",
   "execution_count": 2,
   "id": "37984bf5-64fc-4a03-9f6b-d7708da3985f",
   "metadata": {},
   "outputs": [],
   "source": [
    "#old code\n",
    "# using if statement to define a function checking the price of a product\n",
    "#def price_label(row):\n",
    "  #if row['prices'] <= 5:\n",
    "   # return 'Low-range product'\n",
    "  #elif (row['prices'] > 5) and (row['prices'] <= 15):\n",
    "    #return 'Mid-range product'\n",
    "  #elif row['prices'] > 15:\n",
    "   # return 'High range'\n",
    "  #else: return 'Not enough data'\n",
    "def price_label(row):\n",
    "    price = row['prices']\n",
    "    \n",
    "    # Define a dictionary with price ranges as keys and product labels as values\n",
    "    price_ranges = {\n",
    "        (0, 5): 'Low-range product',\n",
    "        (5, 15): 'Mid-range product',\n",
    "        (15, float('inf')): 'High-range product'\n",
    "    }\n",
    "\n",
    "    # Check if price fits any of the defined ranges\n",
    "    for price_range, label in price_ranges.items():\n",
    "        if price_range[0] < price <= price_range[1]:\n",
    "            return label\n",
    "    \n",
    "    # If no range is found, return 'Not enough data'\n",
    "    return 'Not enough data'"
   ]
  },
  {
   "cell_type": "code",
   "execution_count": 3,
   "id": "43d54771-0ee9-4e0e-805a-d1573f3f2fd4",
   "metadata": {},
   "outputs": [
    {
     "data": {
      "text/plain": [
       "(1000000, 16)"
      ]
     },
     "execution_count": 3,
     "metadata": {},
     "output_type": "execute_result"
    }
   ],
   "source": [
    "# testing function on a subset\n",
    "df = df_combined[:1000000]\n",
    "df.shape"
   ]
  },
  {
   "cell_type": "code",
   "execution_count": 4,
   "id": "1cc7c235-efc4-4810-9a98-ec858242578f",
   "metadata": {},
   "outputs": [
    {
     "name": "stderr",
     "output_type": "stream",
     "text": [
      "C:\\Users\\Administrator\\AppData\\Local\\Temp\\ipykernel_21604\\2067299264.py:1: SettingWithCopyWarning: \n",
      "A value is trying to be set on a copy of a slice from a DataFrame.\n",
      "Try using .loc[row_indexer,col_indexer] = value instead\n",
      "\n",
      "See the caveats in the documentation: https://pandas.pydata.org/pandas-docs/stable/user_guide/indexing.html#returning-a-view-versus-a-copy\n",
      "  df['price_range'] = df.apply(price_label, axis =1)\n"
     ]
    }
   ],
   "source": [
    "df['price_range'] = df.apply(price_label, axis =1)"
   ]
  },
  {
   "cell_type": "code",
   "execution_count": 5,
   "id": "046134ba-bbb1-4a33-9dcd-577c5c62e896",
   "metadata": {},
   "outputs": [
    {
     "data": {
      "text/plain": [
       "price_range\n",
       "Mid-range product    673183\n",
       "Low-range product    314392\n",
       "High range            12425\n",
       "Name: count, dtype: int64"
      ]
     },
     "execution_count": 5,
     "metadata": {},
     "output_type": "execute_result"
    }
   ],
   "source": [
    "df['price_range'].value_counts(dropna = False)"
   ]
  },
  {
   "cell_type": "code",
   "execution_count": 6,
   "id": "703c107c-b681-4d0a-97dd-e927a4db422d",
   "metadata": {},
   "outputs": [
    {
     "data": {
      "text/plain": [
       "99999.0"
      ]
     },
     "execution_count": 6,
     "metadata": {},
     "output_type": "execute_result"
    }
   ],
   "source": [
    "df['prices'].max()"
   ]
  },
  {
   "cell_type": "markdown",
   "id": "dfbed6c8-4e56-4eab-8f1d-8ca2063728bd",
   "metadata": {},
   "source": [
    "## something is wrong here lets check"
   ]
  },
  {
   "cell_type": "code",
   "execution_count": 7,
   "id": "e7488dcb-6153-4e4a-8d2b-d8b75b28b8fe",
   "metadata": {},
   "outputs": [
    {
     "data": {
      "text/html": [
       "<div>\n",
       "<style scoped>\n",
       "    .dataframe tbody tr th:only-of-type {\n",
       "        vertical-align: middle;\n",
       "    }\n",
       "\n",
       "    .dataframe tbody tr th {\n",
       "        vertical-align: top;\n",
       "    }\n",
       "\n",
       "    .dataframe thead th {\n",
       "        text-align: right;\n",
       "    }\n",
       "</style>\n",
       "<table border=\"1\" class=\"dataframe\">\n",
       "  <thead>\n",
       "    <tr style=\"text-align: right;\">\n",
       "      <th></th>\n",
       "      <th>order_id</th>\n",
       "      <th>user_id</th>\n",
       "      <th>eval_set</th>\n",
       "      <th>order_number</th>\n",
       "      <th>order_dow</th>\n",
       "      <th>order_hour_of_day</th>\n",
       "      <th>days_since_prior_order</th>\n",
       "      <th>first_order</th>\n",
       "      <th>product_id</th>\n",
       "      <th>add_to_cart_order</th>\n",
       "      <th>reordered</th>\n",
       "      <th>product_name</th>\n",
       "      <th>aisle_id</th>\n",
       "      <th>department_id</th>\n",
       "      <th>prices</th>\n",
       "      <th>_merge</th>\n",
       "      <th>price_range</th>\n",
       "    </tr>\n",
       "  </thead>\n",
       "  <tbody>\n",
       "    <tr>\n",
       "      <th>0</th>\n",
       "      <td>2539329</td>\n",
       "      <td>1</td>\n",
       "      <td>prior</td>\n",
       "      <td>1</td>\n",
       "      <td>2</td>\n",
       "      <td>8</td>\n",
       "      <td>NaN</td>\n",
       "      <td>True</td>\n",
       "      <td>196</td>\n",
       "      <td>1</td>\n",
       "      <td>0</td>\n",
       "      <td>Soda</td>\n",
       "      <td>77</td>\n",
       "      <td>7</td>\n",
       "      <td>9.0</td>\n",
       "      <td>both</td>\n",
       "      <td>Mid-range product</td>\n",
       "    </tr>\n",
       "    <tr>\n",
       "      <th>1</th>\n",
       "      <td>2539329</td>\n",
       "      <td>1</td>\n",
       "      <td>prior</td>\n",
       "      <td>1</td>\n",
       "      <td>2</td>\n",
       "      <td>8</td>\n",
       "      <td>NaN</td>\n",
       "      <td>True</td>\n",
       "      <td>14084</td>\n",
       "      <td>2</td>\n",
       "      <td>0</td>\n",
       "      <td>Organic Unsweetened Vanilla Almond Milk</td>\n",
       "      <td>91</td>\n",
       "      <td>16</td>\n",
       "      <td>12.5</td>\n",
       "      <td>both</td>\n",
       "      <td>Mid-range product</td>\n",
       "    </tr>\n",
       "    <tr>\n",
       "      <th>2</th>\n",
       "      <td>2539329</td>\n",
       "      <td>1</td>\n",
       "      <td>prior</td>\n",
       "      <td>1</td>\n",
       "      <td>2</td>\n",
       "      <td>8</td>\n",
       "      <td>NaN</td>\n",
       "      <td>True</td>\n",
       "      <td>12427</td>\n",
       "      <td>3</td>\n",
       "      <td>0</td>\n",
       "      <td>Original Beef Jerky</td>\n",
       "      <td>23</td>\n",
       "      <td>19</td>\n",
       "      <td>4.4</td>\n",
       "      <td>both</td>\n",
       "      <td>Low-range product</td>\n",
       "    </tr>\n",
       "    <tr>\n",
       "      <th>3</th>\n",
       "      <td>2539329</td>\n",
       "      <td>1</td>\n",
       "      <td>prior</td>\n",
       "      <td>1</td>\n",
       "      <td>2</td>\n",
       "      <td>8</td>\n",
       "      <td>NaN</td>\n",
       "      <td>True</td>\n",
       "      <td>26088</td>\n",
       "      <td>4</td>\n",
       "      <td>0</td>\n",
       "      <td>Aged White Cheddar Popcorn</td>\n",
       "      <td>23</td>\n",
       "      <td>19</td>\n",
       "      <td>4.7</td>\n",
       "      <td>both</td>\n",
       "      <td>Low-range product</td>\n",
       "    </tr>\n",
       "    <tr>\n",
       "      <th>4</th>\n",
       "      <td>2539329</td>\n",
       "      <td>1</td>\n",
       "      <td>prior</td>\n",
       "      <td>1</td>\n",
       "      <td>2</td>\n",
       "      <td>8</td>\n",
       "      <td>NaN</td>\n",
       "      <td>True</td>\n",
       "      <td>26405</td>\n",
       "      <td>5</td>\n",
       "      <td>0</td>\n",
       "      <td>XL Pick-A-Size Paper Towel Rolls</td>\n",
       "      <td>54</td>\n",
       "      <td>17</td>\n",
       "      <td>1.0</td>\n",
       "      <td>both</td>\n",
       "      <td>Low-range product</td>\n",
       "    </tr>\n",
       "  </tbody>\n",
       "</table>\n",
       "</div>"
      ],
      "text/plain": [
       "   order_id  user_id eval_set  order_number  order_dow  order_hour_of_day  \\\n",
       "0   2539329        1    prior             1          2                  8   \n",
       "1   2539329        1    prior             1          2                  8   \n",
       "2   2539329        1    prior             1          2                  8   \n",
       "3   2539329        1    prior             1          2                  8   \n",
       "4   2539329        1    prior             1          2                  8   \n",
       "\n",
       "   days_since_prior_order  first_order  product_id  add_to_cart_order  \\\n",
       "0                     NaN         True         196                  1   \n",
       "1                     NaN         True       14084                  2   \n",
       "2                     NaN         True       12427                  3   \n",
       "3                     NaN         True       26088                  4   \n",
       "4                     NaN         True       26405                  5   \n",
       "\n",
       "   reordered                             product_name  aisle_id  \\\n",
       "0          0                                     Soda        77   \n",
       "1          0  Organic Unsweetened Vanilla Almond Milk        91   \n",
       "2          0                      Original Beef Jerky        23   \n",
       "3          0               Aged White Cheddar Popcorn        23   \n",
       "4          0         XL Pick-A-Size Paper Towel Rolls        54   \n",
       "\n",
       "   department_id  prices _merge        price_range  \n",
       "0              7     9.0   both  Mid-range product  \n",
       "1             16    12.5   both  Mid-range product  \n",
       "2             19     4.4   both  Low-range product  \n",
       "3             19     4.7   both  Low-range product  \n",
       "4             17     1.0   both  Low-range product  "
      ]
     },
     "execution_count": 7,
     "metadata": {},
     "output_type": "execute_result"
    }
   ],
   "source": [
    "df.head()"
   ]
  },
  {
   "cell_type": "markdown",
   "id": "75e7ca46-e4eb-41ac-af64-202e4d8e5e52",
   "metadata": {},
   "source": [
    "## no idea how the eval set got in there lets drop it agian"
   ]
  },
  {
   "cell_type": "code",
   "execution_count": 8,
   "id": "1429121e-e102-4bbe-9600-b00bdb373bf8",
   "metadata": {},
   "outputs": [],
   "source": [
    "df_combined = df_combined.drop(['eval_set'], axis=1)"
   ]
  },
  {
   "cell_type": "code",
   "execution_count": 9,
   "id": "e728e8bd-beba-44a9-aeef-bd03c0672b00",
   "metadata": {},
   "outputs": [
    {
     "data": {
      "text/html": [
       "<div>\n",
       "<style scoped>\n",
       "    .dataframe tbody tr th:only-of-type {\n",
       "        vertical-align: middle;\n",
       "    }\n",
       "\n",
       "    .dataframe tbody tr th {\n",
       "        vertical-align: top;\n",
       "    }\n",
       "\n",
       "    .dataframe thead th {\n",
       "        text-align: right;\n",
       "    }\n",
       "</style>\n",
       "<table border=\"1\" class=\"dataframe\">\n",
       "  <thead>\n",
       "    <tr style=\"text-align: right;\">\n",
       "      <th></th>\n",
       "      <th>order_id</th>\n",
       "      <th>user_id</th>\n",
       "      <th>order_number</th>\n",
       "      <th>order_dow</th>\n",
       "      <th>order_hour_of_day</th>\n",
       "      <th>days_since_prior_order</th>\n",
       "      <th>first_order</th>\n",
       "      <th>product_id</th>\n",
       "      <th>add_to_cart_order</th>\n",
       "      <th>reordered</th>\n",
       "      <th>product_name</th>\n",
       "      <th>aisle_id</th>\n",
       "      <th>department_id</th>\n",
       "      <th>prices</th>\n",
       "      <th>_merge</th>\n",
       "    </tr>\n",
       "  </thead>\n",
       "  <tbody>\n",
       "    <tr>\n",
       "      <th>0</th>\n",
       "      <td>2539329</td>\n",
       "      <td>1</td>\n",
       "      <td>1</td>\n",
       "      <td>2</td>\n",
       "      <td>8</td>\n",
       "      <td>NaN</td>\n",
       "      <td>True</td>\n",
       "      <td>196</td>\n",
       "      <td>1</td>\n",
       "      <td>0</td>\n",
       "      <td>Soda</td>\n",
       "      <td>77</td>\n",
       "      <td>7</td>\n",
       "      <td>9.0</td>\n",
       "      <td>both</td>\n",
       "    </tr>\n",
       "    <tr>\n",
       "      <th>1</th>\n",
       "      <td>2539329</td>\n",
       "      <td>1</td>\n",
       "      <td>1</td>\n",
       "      <td>2</td>\n",
       "      <td>8</td>\n",
       "      <td>NaN</td>\n",
       "      <td>True</td>\n",
       "      <td>14084</td>\n",
       "      <td>2</td>\n",
       "      <td>0</td>\n",
       "      <td>Organic Unsweetened Vanilla Almond Milk</td>\n",
       "      <td>91</td>\n",
       "      <td>16</td>\n",
       "      <td>12.5</td>\n",
       "      <td>both</td>\n",
       "    </tr>\n",
       "    <tr>\n",
       "      <th>2</th>\n",
       "      <td>2539329</td>\n",
       "      <td>1</td>\n",
       "      <td>1</td>\n",
       "      <td>2</td>\n",
       "      <td>8</td>\n",
       "      <td>NaN</td>\n",
       "      <td>True</td>\n",
       "      <td>12427</td>\n",
       "      <td>3</td>\n",
       "      <td>0</td>\n",
       "      <td>Original Beef Jerky</td>\n",
       "      <td>23</td>\n",
       "      <td>19</td>\n",
       "      <td>4.4</td>\n",
       "      <td>both</td>\n",
       "    </tr>\n",
       "    <tr>\n",
       "      <th>3</th>\n",
       "      <td>2539329</td>\n",
       "      <td>1</td>\n",
       "      <td>1</td>\n",
       "      <td>2</td>\n",
       "      <td>8</td>\n",
       "      <td>NaN</td>\n",
       "      <td>True</td>\n",
       "      <td>26088</td>\n",
       "      <td>4</td>\n",
       "      <td>0</td>\n",
       "      <td>Aged White Cheddar Popcorn</td>\n",
       "      <td>23</td>\n",
       "      <td>19</td>\n",
       "      <td>4.7</td>\n",
       "      <td>both</td>\n",
       "    </tr>\n",
       "    <tr>\n",
       "      <th>4</th>\n",
       "      <td>2539329</td>\n",
       "      <td>1</td>\n",
       "      <td>1</td>\n",
       "      <td>2</td>\n",
       "      <td>8</td>\n",
       "      <td>NaN</td>\n",
       "      <td>True</td>\n",
       "      <td>26405</td>\n",
       "      <td>5</td>\n",
       "      <td>0</td>\n",
       "      <td>XL Pick-A-Size Paper Towel Rolls</td>\n",
       "      <td>54</td>\n",
       "      <td>17</td>\n",
       "      <td>1.0</td>\n",
       "      <td>both</td>\n",
       "    </tr>\n",
       "  </tbody>\n",
       "</table>\n",
       "</div>"
      ],
      "text/plain": [
       "   order_id  user_id  order_number  order_dow  order_hour_of_day  \\\n",
       "0   2539329        1             1          2                  8   \n",
       "1   2539329        1             1          2                  8   \n",
       "2   2539329        1             1          2                  8   \n",
       "3   2539329        1             1          2                  8   \n",
       "4   2539329        1             1          2                  8   \n",
       "\n",
       "   days_since_prior_order  first_order  product_id  add_to_cart_order  \\\n",
       "0                     NaN         True         196                  1   \n",
       "1                     NaN         True       14084                  2   \n",
       "2                     NaN         True       12427                  3   \n",
       "3                     NaN         True       26088                  4   \n",
       "4                     NaN         True       26405                  5   \n",
       "\n",
       "   reordered                             product_name  aisle_id  \\\n",
       "0          0                                     Soda        77   \n",
       "1          0  Organic Unsweetened Vanilla Almond Milk        91   \n",
       "2          0                      Original Beef Jerky        23   \n",
       "3          0               Aged White Cheddar Popcorn        23   \n",
       "4          0         XL Pick-A-Size Paper Towel Rolls        54   \n",
       "\n",
       "   department_id  prices _merge  \n",
       "0              7     9.0   both  \n",
       "1             16    12.5   both  \n",
       "2             19     4.4   both  \n",
       "3             19     4.7   both  \n",
       "4             17     1.0   both  "
      ]
     },
     "execution_count": 9,
     "metadata": {},
     "output_type": "execute_result"
    }
   ],
   "source": [
    "df_combined.head()"
   ]
  },
  {
   "cell_type": "code",
   "execution_count": 10,
   "id": "326eb266-736d-4587-a778-eec5e67dd54c",
   "metadata": {},
   "outputs": [
    {
     "data": {
      "text/plain": [
       "99999.0"
      ]
     },
     "execution_count": 10,
     "metadata": {},
     "output_type": "execute_result"
    }
   ],
   "source": [
    "df_combined['prices'].max()"
   ]
  },
  {
   "cell_type": "code",
   "execution_count": 11,
   "id": "721d05f2-becb-458a-a69f-3628666ffe51",
   "metadata": {},
   "outputs": [
    {
     "data": {
      "text/plain": [
       "99999.0"
      ]
     },
     "execution_count": 11,
     "metadata": {},
     "output_type": "execute_result"
    }
   ],
   "source": [
    "# checking the cleaned products data for the same error\n",
    "df_prods['prices'].max()"
   ]
  },
  {
   "cell_type": "code",
   "execution_count": 12,
   "id": "edcbf79a-0241-4192-95ed-3889a3cf3107",
   "metadata": {},
   "outputs": [
    {
     "data": {
      "text/html": [
       "<div>\n",
       "<style scoped>\n",
       "    .dataframe tbody tr th:only-of-type {\n",
       "        vertical-align: middle;\n",
       "    }\n",
       "\n",
       "    .dataframe tbody tr th {\n",
       "        vertical-align: top;\n",
       "    }\n",
       "\n",
       "    .dataframe thead th {\n",
       "        text-align: right;\n",
       "    }\n",
       "</style>\n",
       "<table border=\"1\" class=\"dataframe\">\n",
       "  <thead>\n",
       "    <tr style=\"text-align: right;\">\n",
       "      <th></th>\n",
       "      <th>Unnamed: 0</th>\n",
       "      <th>product_id</th>\n",
       "      <th>product_name</th>\n",
       "      <th>aisle_id</th>\n",
       "      <th>department_id</th>\n",
       "      <th>prices</th>\n",
       "    </tr>\n",
       "  </thead>\n",
       "  <tbody>\n",
       "    <tr>\n",
       "      <th>0</th>\n",
       "      <td>0</td>\n",
       "      <td>1</td>\n",
       "      <td>Chocolate Sandwich Cookies</td>\n",
       "      <td>61</td>\n",
       "      <td>19</td>\n",
       "      <td>5.8</td>\n",
       "    </tr>\n",
       "    <tr>\n",
       "      <th>1</th>\n",
       "      <td>1</td>\n",
       "      <td>2</td>\n",
       "      <td>All-Seasons Salt</td>\n",
       "      <td>104</td>\n",
       "      <td>13</td>\n",
       "      <td>9.3</td>\n",
       "    </tr>\n",
       "    <tr>\n",
       "      <th>2</th>\n",
       "      <td>2</td>\n",
       "      <td>3</td>\n",
       "      <td>Robust Golden Unsweetened Oolong Tea</td>\n",
       "      <td>94</td>\n",
       "      <td>7</td>\n",
       "      <td>4.5</td>\n",
       "    </tr>\n",
       "    <tr>\n",
       "      <th>3</th>\n",
       "      <td>3</td>\n",
       "      <td>4</td>\n",
       "      <td>Smart Ones Classic Favorites Mini Rigatoni Wit...</td>\n",
       "      <td>38</td>\n",
       "      <td>1</td>\n",
       "      <td>10.5</td>\n",
       "    </tr>\n",
       "    <tr>\n",
       "      <th>4</th>\n",
       "      <td>4</td>\n",
       "      <td>5</td>\n",
       "      <td>Green Chile Anytime Sauce</td>\n",
       "      <td>5</td>\n",
       "      <td>13</td>\n",
       "      <td>4.3</td>\n",
       "    </tr>\n",
       "  </tbody>\n",
       "</table>\n",
       "</div>"
      ],
      "text/plain": [
       "   Unnamed: 0  product_id                                       product_name  \\\n",
       "0           0           1                         Chocolate Sandwich Cookies   \n",
       "1           1           2                                   All-Seasons Salt   \n",
       "2           2           3               Robust Golden Unsweetened Oolong Tea   \n",
       "3           3           4  Smart Ones Classic Favorites Mini Rigatoni Wit...   \n",
       "4           4           5                          Green Chile Anytime Sauce   \n",
       "\n",
       "   aisle_id  department_id  prices  \n",
       "0        61             19     5.8  \n",
       "1       104             13     9.3  \n",
       "2        94              7     4.5  \n",
       "3        38              1    10.5  \n",
       "4         5             13     4.3  "
      ]
     },
     "execution_count": 12,
     "metadata": {},
     "output_type": "execute_result"
    }
   ],
   "source": [
    "df_prods.head()"
   ]
  },
  {
   "cell_type": "code",
   "execution_count": 13,
   "id": "03784d18-1b97-4223-ae57-183103fdc637",
   "metadata": {},
   "outputs": [
    {
     "data": {
      "text/html": [
       "<div>\n",
       "<style scoped>\n",
       "    .dataframe tbody tr th:only-of-type {\n",
       "        vertical-align: middle;\n",
       "    }\n",
       "\n",
       "    .dataframe tbody tr th {\n",
       "        vertical-align: top;\n",
       "    }\n",
       "\n",
       "    .dataframe thead th {\n",
       "        text-align: right;\n",
       "    }\n",
       "</style>\n",
       "<table border=\"1\" class=\"dataframe\">\n",
       "  <thead>\n",
       "    <tr style=\"text-align: right;\">\n",
       "      <th></th>\n",
       "      <th>Unnamed: 0</th>\n",
       "      <th>product_id</th>\n",
       "      <th>product_name</th>\n",
       "      <th>aisle_id</th>\n",
       "      <th>department_id</th>\n",
       "      <th>prices</th>\n",
       "    </tr>\n",
       "  </thead>\n",
       "  <tbody>\n",
       "  </tbody>\n",
       "</table>\n",
       "</div>"
      ],
      "text/plain": [
       "Empty DataFrame\n",
       "Columns: [Unnamed: 0, product_id, product_name, aisle_id, department_id, prices]\n",
       "Index: []"
      ]
     },
     "execution_count": 13,
     "metadata": {},
     "output_type": "execute_result"
    }
   ],
   "source": [
    "df_prods[df_prods['product_name'].isnull()==True]"
   ]
  },
  {
   "cell_type": "code",
   "execution_count": 14,
   "id": "ae6fc6db-32d5-437d-a64f-cc5590594bef",
   "metadata": {},
   "outputs": [
    {
     "data": {
      "text/plain": [
       "(49672, 6)"
      ]
     },
     "execution_count": 14,
     "metadata": {},
     "output_type": "execute_result"
    }
   ],
   "source": [
    "#error is there so double checking the shape is the same as the example in 4.4, which it is\n",
    "df_prods.shape"
   ]
  },
  {
   "cell_type": "code",
   "execution_count": 15,
   "id": "d560934a-5e04-49b9-8e7b-505c41afe7c9",
   "metadata": {},
   "outputs": [
    {
     "data": {
      "text/html": [
       "<div>\n",
       "<style scoped>\n",
       "    .dataframe tbody tr th:only-of-type {\n",
       "        vertical-align: middle;\n",
       "    }\n",
       "\n",
       "    .dataframe tbody tr th {\n",
       "        vertical-align: top;\n",
       "    }\n",
       "\n",
       "    .dataframe thead th {\n",
       "        text-align: right;\n",
       "    }\n",
       "</style>\n",
       "<table border=\"1\" class=\"dataframe\">\n",
       "  <thead>\n",
       "    <tr style=\"text-align: right;\">\n",
       "      <th></th>\n",
       "      <th>Unnamed: 0</th>\n",
       "      <th>product_id</th>\n",
       "      <th>product_name</th>\n",
       "      <th>aisle_id</th>\n",
       "      <th>department_id</th>\n",
       "      <th>prices</th>\n",
       "    </tr>\n",
       "  </thead>\n",
       "  <tbody>\n",
       "    <tr>\n",
       "      <th>33649</th>\n",
       "      <td>33666</td>\n",
       "      <td>33664</td>\n",
       "      <td>2 % Reduced Fat  Milk</td>\n",
       "      <td>84</td>\n",
       "      <td>16</td>\n",
       "      <td>99999.0</td>\n",
       "    </tr>\n",
       "  </tbody>\n",
       "</table>\n",
       "</div>"
      ],
      "text/plain": [
       "       Unnamed: 0  product_id           product_name  aisle_id  department_id  \\\n",
       "33649       33666       33664  2 % Reduced Fat  Milk        84             16   \n",
       "\n",
       "        prices  \n",
       "33649  99999.0  "
      ]
     },
     "execution_count": 15,
     "metadata": {},
     "output_type": "execute_result"
    }
   ],
   "source": [
    "#checking what is too highly priced\n",
    "df_prods[df_prods['prices'] == 99999.0]"
   ]
  },
  {
   "cell_type": "code",
   "execution_count": 16,
   "id": "f10f168f-930a-4858-928f-78b2eedc2d4a",
   "metadata": {},
   "outputs": [],
   "source": [
    "rows_too_large = df_prods[df_prods['prices'] > 15.0]"
   ]
  },
  {
   "cell_type": "code",
   "execution_count": 17,
   "id": "8aa60a8a-fcbc-4a1d-8302-e87ce2472cf9",
   "metadata": {},
   "outputs": [
    {
     "data": {
      "text/html": [
       "<div>\n",
       "<style scoped>\n",
       "    .dataframe tbody tr th:only-of-type {\n",
       "        vertical-align: middle;\n",
       "    }\n",
       "\n",
       "    .dataframe tbody tr th {\n",
       "        vertical-align: top;\n",
       "    }\n",
       "\n",
       "    .dataframe thead th {\n",
       "        text-align: right;\n",
       "    }\n",
       "</style>\n",
       "<table border=\"1\" class=\"dataframe\">\n",
       "  <thead>\n",
       "    <tr style=\"text-align: right;\">\n",
       "      <th></th>\n",
       "      <th>Unnamed: 0</th>\n",
       "      <th>product_id</th>\n",
       "      <th>product_name</th>\n",
       "      <th>aisle_id</th>\n",
       "      <th>department_id</th>\n",
       "      <th>prices</th>\n",
       "    </tr>\n",
       "  </thead>\n",
       "  <tbody>\n",
       "    <tr>\n",
       "      <th>16</th>\n",
       "      <td>16</td>\n",
       "      <td>17</td>\n",
       "      <td>Rendered Duck Fat</td>\n",
       "      <td>35</td>\n",
       "      <td>12</td>\n",
       "      <td>17.1</td>\n",
       "    </tr>\n",
       "    <tr>\n",
       "      <th>33</th>\n",
       "      <td>34</td>\n",
       "      <td>35</td>\n",
       "      <td>Italian Herb Porcini Mushrooms Chicken Sausage</td>\n",
       "      <td>106</td>\n",
       "      <td>12</td>\n",
       "      <td>15.1</td>\n",
       "    </tr>\n",
       "    <tr>\n",
       "      <th>38</th>\n",
       "      <td>39</td>\n",
       "      <td>40</td>\n",
       "      <td>Beef Hot Links Beef Smoked Sausage With Chile ...</td>\n",
       "      <td>106</td>\n",
       "      <td>12</td>\n",
       "      <td>22.5</td>\n",
       "    </tr>\n",
       "    <tr>\n",
       "      <th>81</th>\n",
       "      <td>83</td>\n",
       "      <td>84</td>\n",
       "      <td>Lamb Shank</td>\n",
       "      <td>7</td>\n",
       "      <td>12</td>\n",
       "      <td>24.3</td>\n",
       "    </tr>\n",
       "    <tr>\n",
       "      <th>171</th>\n",
       "      <td>174</td>\n",
       "      <td>175</td>\n",
       "      <td>T Bone Steak</td>\n",
       "      <td>122</td>\n",
       "      <td>12</td>\n",
       "      <td>18.6</td>\n",
       "    </tr>\n",
       "  </tbody>\n",
       "</table>\n",
       "</div>"
      ],
      "text/plain": [
       "     Unnamed: 0  product_id  \\\n",
       "16           16          17   \n",
       "33           34          35   \n",
       "38           39          40   \n",
       "81           83          84   \n",
       "171         174         175   \n",
       "\n",
       "                                          product_name  aisle_id  \\\n",
       "16                                   Rendered Duck Fat        35   \n",
       "33      Italian Herb Porcini Mushrooms Chicken Sausage       106   \n",
       "38   Beef Hot Links Beef Smoked Sausage With Chile ...       106   \n",
       "81                                          Lamb Shank         7   \n",
       "171                                       T Bone Steak       122   \n",
       "\n",
       "     department_id  prices  \n",
       "16              12    17.1  \n",
       "33              12    15.1  \n",
       "38              12    22.5  \n",
       "81              12    24.3  \n",
       "171             12    18.6  "
      ]
     },
     "execution_count": 17,
     "metadata": {},
     "output_type": "execute_result"
    }
   ],
   "source": [
    "rows_too_large.head()"
   ]
  },
  {
   "cell_type": "code",
   "execution_count": 18,
   "id": "de1efdd1-a45c-4646-b2c5-6740ded219c8",
   "metadata": {},
   "outputs": [
    {
     "data": {
      "text/html": [
       "<div>\n",
       "<style scoped>\n",
       "    .dataframe tbody tr th:only-of-type {\n",
       "        vertical-align: middle;\n",
       "    }\n",
       "\n",
       "    .dataframe tbody tr th {\n",
       "        vertical-align: top;\n",
       "    }\n",
       "\n",
       "    .dataframe thead th {\n",
       "        text-align: right;\n",
       "    }\n",
       "</style>\n",
       "<table border=\"1\" class=\"dataframe\">\n",
       "  <thead>\n",
       "    <tr style=\"text-align: right;\">\n",
       "      <th></th>\n",
       "      <th>Unnamed: 0</th>\n",
       "      <th>product_id</th>\n",
       "      <th>product_name</th>\n",
       "      <th>aisle_id</th>\n",
       "      <th>department_id</th>\n",
       "      <th>prices</th>\n",
       "    </tr>\n",
       "  </thead>\n",
       "  <tbody>\n",
       "    <tr>\n",
       "      <th>33649</th>\n",
       "      <td>33666</td>\n",
       "      <td>33664</td>\n",
       "      <td>2 % Reduced Fat  Milk</td>\n",
       "      <td>84</td>\n",
       "      <td>16</td>\n",
       "      <td>99999.0</td>\n",
       "    </tr>\n",
       "    <tr>\n",
       "      <th>21538</th>\n",
       "      <td>21554</td>\n",
       "      <td>21553</td>\n",
       "      <td>Lowfat 2% Milkfat Cottage Cheese</td>\n",
       "      <td>108</td>\n",
       "      <td>16</td>\n",
       "      <td>14900.0</td>\n",
       "    </tr>\n",
       "    <tr>\n",
       "      <th>25564</th>\n",
       "      <td>25580</td>\n",
       "      <td>25579</td>\n",
       "      <td>Naturally Smoked Trout Fillet</td>\n",
       "      <td>15</td>\n",
       "      <td>12</td>\n",
       "      <td>25.0</td>\n",
       "    </tr>\n",
       "    <tr>\n",
       "      <th>21452</th>\n",
       "      <td>21468</td>\n",
       "      <td>21467</td>\n",
       "      <td>Wild Caught Raw Shrimp</td>\n",
       "      <td>15</td>\n",
       "      <td>12</td>\n",
       "      <td>25.0</td>\n",
       "    </tr>\n",
       "    <tr>\n",
       "      <th>40469</th>\n",
       "      <td>40490</td>\n",
       "      <td>40486</td>\n",
       "      <td>Chicken Tenders</td>\n",
       "      <td>49</td>\n",
       "      <td>12</td>\n",
       "      <td>25.0</td>\n",
       "    </tr>\n",
       "  </tbody>\n",
       "</table>\n",
       "</div>"
      ],
      "text/plain": [
       "       Unnamed: 0  product_id                      product_name  aisle_id  \\\n",
       "33649       33666       33664             2 % Reduced Fat  Milk        84   \n",
       "21538       21554       21553  Lowfat 2% Milkfat Cottage Cheese       108   \n",
       "25564       25580       25579     Naturally Smoked Trout Fillet        15   \n",
       "21452       21468       21467            Wild Caught Raw Shrimp        15   \n",
       "40469       40490       40486                   Chicken Tenders        49   \n",
       "\n",
       "       department_id   prices  \n",
       "33649             16  99999.0  \n",
       "21538             16  14900.0  \n",
       "25564             12     25.0  \n",
       "21452             12     25.0  \n",
       "40469             12     25.0  "
      ]
     },
     "execution_count": 18,
     "metadata": {},
     "output_type": "execute_result"
    }
   ],
   "source": [
    "#thought it through and checked for all outliers indstead of just one and found two clear errors\n",
    "price_check=rows_too_large.sort_values(by='prices', ascending=False)\n",
    "price_check.head()"
   ]
  },
  {
   "cell_type": "markdown",
   "id": "fb8f27e6-ff14-4cd3-bf45-005056150f1d",
   "metadata": {},
   "source": [
    "## I have literally no Idea what has happened my df_prods matches the one in the example in 4.4, but clearly the milk and the cottage cheese need to be dropped for accuracies sake"
   ]
  },
  {
   "cell_type": "code",
   "execution_count": 19,
   "id": "05a45f30-7fab-4a08-b205-0abb52bba57f",
   "metadata": {},
   "outputs": [],
   "source": [
    "df_combined2 = df_combined[~df_combined['prices'].isin([99999.0, 14900.0])]"
   ]
  },
  {
   "cell_type": "code",
   "execution_count": 20,
   "id": "481a111e-b5cc-434b-b91f-08ba0dca7a7f",
   "metadata": {},
   "outputs": [
    {
     "data": {
      "text/plain": [
       "25.0"
      ]
     },
     "execution_count": 20,
     "metadata": {},
     "output_type": "execute_result"
    }
   ],
   "source": [
    "df_combined2['prices'].max()"
   ]
  },
  {
   "cell_type": "markdown",
   "id": "4d968cc3-e0bb-4124-9e14-f9fe1e6cb2cf",
   "metadata": {},
   "source": [
    "## okay now we have removed the outliers in the data weird they were there in the first place, but now on to the rest of the lesson"
   ]
  },
  {
   "cell_type": "code",
   "execution_count": 21,
   "id": "fefc23b5-e866-4cc6-b758-42041d04a21b",
   "metadata": {},
   "outputs": [
    {
     "data": {
      "text/plain": [
       "25.0"
      ]
     },
     "execution_count": 21,
     "metadata": {},
     "output_type": "execute_result"
    }
   ],
   "source": [
    "df = df_combined2[:1000000]\n",
    "df['prices'].max()"
   ]
  },
  {
   "cell_type": "markdown",
   "id": "f13220a6-d5bf-477b-8980-c78cc4e136f6",
   "metadata": {},
   "source": [
    "## all the code looks correct so far, but I have values largers than 15 in my subset which looking into the origingal products df implies that the example code ordered the product df by price before merging. Which is weird, but forging on ahead as all the code portions are accurate"
   ]
  },
  {
   "cell_type": "code",
   "execution_count": 22,
   "id": "44ef670b-b667-4675-8241-fef57f36501d",
   "metadata": {},
   "outputs": [
    {
     "name": "stderr",
     "output_type": "stream",
     "text": [
      "C:\\Users\\Administrator\\AppData\\Local\\Temp\\ipykernel_21604\\931533412.py:1: SettingWithCopyWarning: \n",
      "A value is trying to be set on a copy of a slice from a DataFrame.\n",
      "Try using .loc[row_indexer,col_indexer] = value instead\n",
      "\n",
      "See the caveats in the documentation: https://pandas.pydata.org/pandas-docs/stable/user_guide/indexing.html#returning-a-view-versus-a-copy\n",
      "  df.loc[df['prices'] > 15, 'price_range_loc'] = 'High-range product'\n"
     ]
    },
    {
     "data": {
      "text/plain": [
       "price_range_loc\n",
       "Mid-range product     673293\n",
       "Low-range product     314432\n",
       "High-range product     12275\n",
       "Name: count, dtype: int64"
      ]
     },
     "execution_count": 22,
     "metadata": {},
     "output_type": "execute_result"
    }
   ],
   "source": [
    "df.loc[df['prices'] > 15, 'price_range_loc'] = 'High-range product'\n",
    "df.loc[(df['prices'] <= 15) & (df['prices'] > 5), 'price_range_loc'] = 'Mid-range product' \n",
    "df.loc[df['prices'] <= 5, 'price_range_loc'] = 'Low-range product'\n",
    "df['price_range_loc'].value_counts(dropna = False)"
   ]
  },
  {
   "cell_type": "markdown",
   "id": "d8f143fe-c88e-4cfc-8265-b8dea3c7b58a",
   "metadata": {},
   "source": [
    "## still getting the warning which is weird, maybe a newer form of python is causing it"
   ]
  },
  {
   "cell_type": "code",
   "execution_count": 23,
   "id": "8fe20458-6688-4ccd-8a57-19a9b7850499",
   "metadata": {},
   "outputs": [
    {
     "name": "stdout",
     "output_type": "stream",
     "text": [
      "My age is 30\n",
      "My age is 31\n",
      "My age is 32\n",
      "My age is 33\n",
      "My age is 34\n",
      "My age is 35\n",
      "My age is 36\n",
      "My age is 37\n",
      "My age is 38\n",
      "My age is 39\n",
      "My age is 40\n",
      "My age is 41\n",
      "My age is 42\n",
      "My age is 43\n",
      "My age is 44\n"
     ]
    }
   ],
   "source": [
    "for x in range(30, 45):\n",
    "    print(\"My age is %d\" % (x))"
   ]
  },
  {
   "cell_type": "code",
   "execution_count": 24,
   "id": "b9fa704d-81e6-45df-864a-ee74db42b490",
   "metadata": {},
   "outputs": [
    {
     "data": {
      "text/plain": [
       "order_dow\n",
       "0    6204182\n",
       "1    5660230\n",
       "6    4496490\n",
       "2    4213830\n",
       "5    4205791\n",
       "3    3840534\n",
       "4    3783802\n",
       "Name: count, dtype: int64"
      ]
     },
     "execution_count": 24,
     "metadata": {},
     "output_type": "execute_result"
    }
   ],
   "source": [
    "#using the old combined to match the example with the no removed rows\n",
    "df_combined['order_dow'].value_counts(dropna  = False)"
   ]
  },
  {
   "cell_type": "markdown",
   "id": "82362e01-258c-4efd-89bb-4c3a9983e237",
   "metadata": {},
   "source": [
    "## switching back over to combined2"
   ]
  },
  {
   "cell_type": "code",
   "execution_count": 25,
   "id": "2696e122-0ce4-4cce-bdbc-d5f4f84bdbf5",
   "metadata": {},
   "outputs": [],
   "source": [
    "result = []\n",
    "\n",
    "for value in df_combined2[\"order_dow\"]:\n",
    "  if value == 0:\n",
    "    result.append(\"Busiest day\")\n",
    "  elif value == 4:\n",
    "    result.append(\"Least busy\")\n",
    "  else:\n",
    "    result.append(\"Regularly busy\")"
   ]
  },
  {
   "cell_type": "code",
   "execution_count": null,
   "id": "bdf45422-1928-49b3-a708-a4ae791f838f",
   "metadata": {},
   "outputs": [],
   "source": [
    "result"
   ]
  },
  {
   "cell_type": "code",
   "execution_count": 27,
   "id": "d44d5815-99d2-42f1-9cdd-4e2a2158813d",
   "metadata": {},
   "outputs": [
    {
     "name": "stderr",
     "output_type": "stream",
     "text": [
      "C:\\Users\\Administrator\\AppData\\Local\\Temp\\ipykernel_21604\\3127499708.py:1: SettingWithCopyWarning: \n",
      "A value is trying to be set on a copy of a slice from a DataFrame.\n",
      "Try using .loc[row_indexer,col_indexer] = value instead\n",
      "\n",
      "See the caveats in the documentation: https://pandas.pydata.org/pandas-docs/stable/user_guide/indexing.html#returning-a-view-versus-a-copy\n",
      "  df_combined2['busiest_day'] = result\n"
     ]
    },
    {
     "data": {
      "text/plain": [
       "busiest_day\n",
       "Regularly busy    22413231\n",
       "Busiest day        6203329\n",
       "Least busy         3783172\n",
       "Name: count, dtype: int64"
      ]
     },
     "execution_count": 27,
     "metadata": {},
     "output_type": "execute_result"
    }
   ],
   "source": [
    "df_combined2['busiest_day'] = result\n",
    "df_combined2['busiest_day'].value_counts(dropna =  False)"
   ]
  },
  {
   "cell_type": "code",
   "execution_count": 30,
   "id": "41fafc61-2ba4-445e-81ed-b1d8fb377f3a",
   "metadata": {},
   "outputs": [
    {
     "name": "stderr",
     "output_type": "stream",
     "text": [
      "C:\\Users\\Administrator\\AppData\\Local\\Temp\\ipykernel_21604\\1778974415.py:1: SettingWithCopyWarning: \n",
      "A value is trying to be set on a copy of a slice from a DataFrame.\n",
      "Try using .loc[row_indexer,col_indexer] = value instead\n",
      "\n",
      "See the caveats in the documentation: https://pandas.pydata.org/pandas-docs/stable/user_guide/indexing.html#returning-a-view-versus-a-copy\n",
      "  df_combined2.loc[df_combined2['prices'] > 15, 'price_range_loc'] = 'High-range product'\n"
     ]
    }
   ],
   "source": [
    "df_combined2.loc[df_combined2['prices'] > 15, 'price_range_loc'] = 'High-range product'\n",
    "df_combined2.loc[(df_combined2['prices'] <= 15) & (df['prices'] > 5), 'price_range_loc'] = 'Mid-range product' \n",
    "df_combined2.loc[df_combined2['prices'] <= 5, 'price_range_loc'] = 'Low-range product'"
   ]
  },
  {
   "cell_type": "code",
   "execution_count": 31,
   "id": "4ca81e8e-1a92-44e0-ae73-38e22f5faaba",
   "metadata": {},
   "outputs": [
    {
     "data": {
      "text/html": [
       "<div>\n",
       "<style scoped>\n",
       "    .dataframe tbody tr th:only-of-type {\n",
       "        vertical-align: middle;\n",
       "    }\n",
       "\n",
       "    .dataframe tbody tr th {\n",
       "        vertical-align: top;\n",
       "    }\n",
       "\n",
       "    .dataframe thead th {\n",
       "        text-align: right;\n",
       "    }\n",
       "</style>\n",
       "<table border=\"1\" class=\"dataframe\">\n",
       "  <thead>\n",
       "    <tr style=\"text-align: right;\">\n",
       "      <th></th>\n",
       "      <th>order_id</th>\n",
       "      <th>user_id</th>\n",
       "      <th>order_number</th>\n",
       "      <th>order_dow</th>\n",
       "      <th>order_hour_of_day</th>\n",
       "      <th>days_since_prior_order</th>\n",
       "      <th>first_order</th>\n",
       "      <th>product_id</th>\n",
       "      <th>add_to_cart_order</th>\n",
       "      <th>reordered</th>\n",
       "      <th>product_name</th>\n",
       "      <th>aisle_id</th>\n",
       "      <th>department_id</th>\n",
       "      <th>prices</th>\n",
       "      <th>_merge</th>\n",
       "      <th>busiest_day</th>\n",
       "      <th>price_range_loc</th>\n",
       "    </tr>\n",
       "  </thead>\n",
       "  <tbody>\n",
       "    <tr>\n",
       "      <th>0</th>\n",
       "      <td>2539329</td>\n",
       "      <td>1</td>\n",
       "      <td>1</td>\n",
       "      <td>2</td>\n",
       "      <td>8</td>\n",
       "      <td>NaN</td>\n",
       "      <td>True</td>\n",
       "      <td>196</td>\n",
       "      <td>1</td>\n",
       "      <td>0</td>\n",
       "      <td>Soda</td>\n",
       "      <td>77</td>\n",
       "      <td>7</td>\n",
       "      <td>9.0</td>\n",
       "      <td>both</td>\n",
       "      <td>Regularly busy</td>\n",
       "      <td>Mid-range product</td>\n",
       "    </tr>\n",
       "    <tr>\n",
       "      <th>1</th>\n",
       "      <td>2539329</td>\n",
       "      <td>1</td>\n",
       "      <td>1</td>\n",
       "      <td>2</td>\n",
       "      <td>8</td>\n",
       "      <td>NaN</td>\n",
       "      <td>True</td>\n",
       "      <td>14084</td>\n",
       "      <td>2</td>\n",
       "      <td>0</td>\n",
       "      <td>Organic Unsweetened Vanilla Almond Milk</td>\n",
       "      <td>91</td>\n",
       "      <td>16</td>\n",
       "      <td>12.5</td>\n",
       "      <td>both</td>\n",
       "      <td>Regularly busy</td>\n",
       "      <td>Mid-range product</td>\n",
       "    </tr>\n",
       "    <tr>\n",
       "      <th>2</th>\n",
       "      <td>2539329</td>\n",
       "      <td>1</td>\n",
       "      <td>1</td>\n",
       "      <td>2</td>\n",
       "      <td>8</td>\n",
       "      <td>NaN</td>\n",
       "      <td>True</td>\n",
       "      <td>12427</td>\n",
       "      <td>3</td>\n",
       "      <td>0</td>\n",
       "      <td>Original Beef Jerky</td>\n",
       "      <td>23</td>\n",
       "      <td>19</td>\n",
       "      <td>4.4</td>\n",
       "      <td>both</td>\n",
       "      <td>Regularly busy</td>\n",
       "      <td>Low-range product</td>\n",
       "    </tr>\n",
       "    <tr>\n",
       "      <th>3</th>\n",
       "      <td>2539329</td>\n",
       "      <td>1</td>\n",
       "      <td>1</td>\n",
       "      <td>2</td>\n",
       "      <td>8</td>\n",
       "      <td>NaN</td>\n",
       "      <td>True</td>\n",
       "      <td>26088</td>\n",
       "      <td>4</td>\n",
       "      <td>0</td>\n",
       "      <td>Aged White Cheddar Popcorn</td>\n",
       "      <td>23</td>\n",
       "      <td>19</td>\n",
       "      <td>4.7</td>\n",
       "      <td>both</td>\n",
       "      <td>Regularly busy</td>\n",
       "      <td>Low-range product</td>\n",
       "    </tr>\n",
       "    <tr>\n",
       "      <th>4</th>\n",
       "      <td>2539329</td>\n",
       "      <td>1</td>\n",
       "      <td>1</td>\n",
       "      <td>2</td>\n",
       "      <td>8</td>\n",
       "      <td>NaN</td>\n",
       "      <td>True</td>\n",
       "      <td>26405</td>\n",
       "      <td>5</td>\n",
       "      <td>0</td>\n",
       "      <td>XL Pick-A-Size Paper Towel Rolls</td>\n",
       "      <td>54</td>\n",
       "      <td>17</td>\n",
       "      <td>1.0</td>\n",
       "      <td>both</td>\n",
       "      <td>Regularly busy</td>\n",
       "      <td>Low-range product</td>\n",
       "    </tr>\n",
       "  </tbody>\n",
       "</table>\n",
       "</div>"
      ],
      "text/plain": [
       "   order_id  user_id  order_number  order_dow  order_hour_of_day  \\\n",
       "0   2539329        1             1          2                  8   \n",
       "1   2539329        1             1          2                  8   \n",
       "2   2539329        1             1          2                  8   \n",
       "3   2539329        1             1          2                  8   \n",
       "4   2539329        1             1          2                  8   \n",
       "\n",
       "   days_since_prior_order  first_order  product_id  add_to_cart_order  \\\n",
       "0                     NaN         True         196                  1   \n",
       "1                     NaN         True       14084                  2   \n",
       "2                     NaN         True       12427                  3   \n",
       "3                     NaN         True       26088                  4   \n",
       "4                     NaN         True       26405                  5   \n",
       "\n",
       "   reordered                             product_name  aisle_id  \\\n",
       "0          0                                     Soda        77   \n",
       "1          0  Organic Unsweetened Vanilla Almond Milk        91   \n",
       "2          0                      Original Beef Jerky        23   \n",
       "3          0               Aged White Cheddar Popcorn        23   \n",
       "4          0         XL Pick-A-Size Paper Towel Rolls        54   \n",
       "\n",
       "   department_id  prices _merge     busiest_day    price_range_loc  \n",
       "0              7     9.0   both  Regularly busy  Mid-range product  \n",
       "1             16    12.5   both  Regularly busy  Mid-range product  \n",
       "2             19     4.4   both  Regularly busy  Low-range product  \n",
       "3             19     4.7   both  Regularly busy  Low-range product  \n",
       "4             17     1.0   both  Regularly busy  Low-range product  "
      ]
     },
     "execution_count": 31,
     "metadata": {},
     "output_type": "execute_result"
    }
   ],
   "source": [
    "df_combined2.head()"
   ]
  },
  {
   "cell_type": "markdown",
   "id": "973a7ce6-5269-4831-ac7e-c72296ed8741",
   "metadata": {},
   "source": [
    "## okay everthing is setup in the correct order and df_combined2 is ready to be worked on "
   ]
  },
  {
   "cell_type": "markdown",
   "id": "06a224ba-10e9-43ec-afd1-072e0e30d324",
   "metadata": {},
   "source": [
    "#  Begin Task 4.7"
   ]
  },
  {
   "cell_type": "code",
   "execution_count": 37,
   "id": "1b79fb62-d328-44b2-884b-2e97a8e37d8f",
   "metadata": {},
   "outputs": [],
   "source": [
    "result2 = []\n",
    "\n",
    "for value in df_combined2[\"order_dow\"]:\n",
    "  if value == 0 or value == 1:\n",
    "    result2.append(\"Busiest day\")\n",
    "  elif value == 4 or value == 3:\n",
    "    result2.append(\"Least busy\")\n",
    "  else:\n",
    "    result2.append(\"Regularly busy\")"
   ]
  },
  {
   "cell_type": "code",
   "execution_count": 38,
   "id": "50ae34a9-3ebc-4733-96dd-34c6e1912b76",
   "metadata": {},
   "outputs": [
    {
     "name": "stderr",
     "output_type": "stream",
     "text": [
      "C:\\Users\\Administrator\\AppData\\Local\\Temp\\ipykernel_21604\\3526532317.py:2: SettingWithCopyWarning: \n",
      "A value is trying to be set on a copy of a slice from a DataFrame.\n",
      "Try using .loc[row_indexer,col_indexer] = value instead\n",
      "\n",
      "See the caveats in the documentation: https://pandas.pydata.org/pandas-docs/stable/user_guide/indexing.html#returning-a-view-versus-a-copy\n",
      "  df_combined2['busiest_day'] = result2\n"
     ]
    },
    {
     "data": {
      "text/plain": [
       "busiest_day\n",
       "Regularly busy    12914068\n",
       "Busiest day       11862627\n",
       "Least busy         7623037\n",
       "Name: count, dtype: int64"
      ]
     },
     "execution_count": 38,
     "metadata": {},
     "output_type": "execute_result"
    }
   ],
   "source": [
    "#checking the results of the loop\n",
    "df_combined2['busiest_day'] = result2\n",
    "df_combined2['busiest_day'].value_counts(dropna =  False)"
   ]
  },
  {
   "cell_type": "markdown",
   "id": "1d4295c9-424b-40f8-adba-3c448c2b8c29",
   "metadata": {},
   "source": [
    "## for this I just used the or command that I learned in java and assumed python has to include the second busiest day and second least busiest days. Looks like I was right and it works."
   ]
  },
  {
   "cell_type": "markdown",
   "id": "e759f768-6629-4ead-b4bc-949271e8ddfd",
   "metadata": {},
   "source": [
    "# Step 3 checking accuracy"
   ]
  },
  {
   "cell_type": "code",
   "execution_count": 39,
   "id": "e7e21f75-66ed-458d-a326-ed0d6be1689c",
   "metadata": {},
   "outputs": [
    {
     "data": {
      "text/plain": [
       "order_dow\n",
       "0    6203329\n",
       "1    5659298\n",
       "6    4495887\n",
       "2    4213105\n",
       "5    4205076\n",
       "3    3839865\n",
       "4    3783172\n",
       "Name: count, dtype: int64"
      ]
     },
     "execution_count": 39,
     "metadata": {},
     "output_type": "execute_result"
    }
   ],
   "source": [
    "df_combined2['order_dow'].value_counts(dropna  = False)"
   ]
  },
  {
   "cell_type": "code",
   "execution_count": 40,
   "id": "f472d747-4946-4caf-92d9-d6dc11bbf299",
   "metadata": {},
   "outputs": [
    {
     "name": "stdout",
     "output_type": "stream",
     "text": [
      "11862627, 7623037\n"
     ]
    }
   ],
   "source": [
    "x = 6203329+5659298\n",
    "y = 3783172+3839865\n",
    "print(x, y, sep=', ')"
   ]
  },
  {
   "cell_type": "markdown",
   "id": "5e4f77ab-1aa6-4109-a61a-c8071ef9f0d3",
   "metadata": {},
   "source": [
    "## the numbers are a match to the expected output meaning the loop worked correctly. I don't fully understand the format of the order days of the week column, why is the smaller the number the busier it is? That aside code is good."
   ]
  },
  {
   "cell_type": "markdown",
   "id": "6cfed3f5-1f21-406c-aab7-cb0ba46e46c2",
   "metadata": {},
   "source": [
    "# Step 4 Busiest time of day"
   ]
  },
  {
   "cell_type": "code",
   "execution_count": 42,
   "id": "58ec448f-ed69-43b3-88d7-f7421333c6f0",
   "metadata": {},
   "outputs": [
    {
     "data": {
      "text/plain": [
       "order_hour_of_day\n",
       "10    2761333\n",
       "11    2735694\n",
       "14    2688728\n",
       "15    2661718\n",
       "13    2660570\n",
       "12    2618104\n",
       "16    2534744\n",
       "9     2453842\n",
       "17    2087273\n",
       "8     1717863\n",
       "18    1636226\n",
       "19    1258076\n",
       "20     976000\n",
       "7      890923\n",
       "21     795528\n",
       "22     634159\n",
       "23     402272\n",
       "6      290450\n",
       "0      218742\n",
       "1      115683\n",
       "5       87944\n",
       "2       69360\n",
       "4       53232\n",
       "3       51268\n",
       "Name: count, dtype: int64"
      ]
     },
     "execution_count": 42,
     "metadata": {},
     "output_type": "execute_result"
    }
   ],
   "source": [
    "df_combined2['order_hour_of_day'].value_counts(dropna=False)"
   ]
  },
  {
   "cell_type": "code",
   "execution_count": 43,
   "id": "abd98c8a-8c8b-45ed-8619-ec5eb6def656",
   "metadata": {},
   "outputs": [],
   "source": [
    "result3 = []\n",
    "\n",
    "for value in df_combined2[\"order_hour_of_day\"]:\n",
    "  if value in range(9, 16):\n",
    "    result3.append(\"Most orders\")\n",
    "  elif value in range(3, 5):\n",
    "    result3.append(\"Fewest orders\")\n",
    "  else:\n",
    "    result3.append(\"Average orders\")"
   ]
  },
  {
   "cell_type": "code",
   "execution_count": 44,
   "id": "14d2113c-c83c-422d-9309-518ccc9fae38",
   "metadata": {},
   "outputs": [
    {
     "name": "stderr",
     "output_type": "stream",
     "text": [
      "C:\\Users\\Administrator\\AppData\\Local\\Temp\\ipykernel_21604\\2677380307.py:2: SettingWithCopyWarning: \n",
      "A value is trying to be set on a copy of a slice from a DataFrame.\n",
      "Try using .loc[row_indexer,col_indexer] = value instead\n",
      "\n",
      "See the caveats in the documentation: https://pandas.pydata.org/pandas-docs/stable/user_guide/indexing.html#returning-a-view-versus-a-copy\n",
      "  df_combined2['busiest_period_of_day'] = result3\n"
     ]
    },
    {
     "data": {
      "text/plain": [
       "busiest_period_of_day\n",
       "Most orders       18579989\n",
       "Average orders    13715243\n",
       "Fewest orders       104500\n",
       "Name: count, dtype: int64"
      ]
     },
     "execution_count": 44,
     "metadata": {},
     "output_type": "execute_result"
    }
   ],
   "source": [
    "#checking the results of the loop\n",
    "df_combined2['busiest_period_of_day'] = result3\n",
    "df_combined2['busiest_period_of_day'].value_counts(dropna =  False)"
   ]
  },
  {
   "cell_type": "code",
   "execution_count": 51,
   "id": "28851107-212c-41f6-ae8f-3a60ef76016d",
   "metadata": {},
   "outputs": [
    {
     "name": "stdout",
     "output_type": "stream",
     "text": [
      "21114733, 261804\n"
     ]
    }
   ],
   "source": [
    "#Expected output\n",
    "x  = 2761333+2735694+2688728+2661718+2660570+2618104+2534744+2453842\n",
    "y = 87944+69360+53232+51268\n",
    "print(x, y, sep=', ')"
   ]
  },
  {
   "cell_type": "markdown",
   "id": "f955df06-9058-4cd0-93e3-cb2e215808bb",
   "metadata": {},
   "source": [
    "## something is wrong trying to see what values are being cut off"
   ]
  },
  {
   "cell_type": "code",
   "execution_count": 46,
   "id": "ad5e27b0-d889-4676-b7f3-1a74baab43e6",
   "metadata": {},
   "outputs": [
    {
     "name": "stdout",
     "output_type": "stream",
     "text": [
      "15899558, 122592\n"
     ]
    }
   ],
   "source": [
    "x  = 2735694+2688728+2661718+2660570+2618104+2534744\n",
    "y = 69360+53232\n",
    "print(x, y, sep=', ')"
   ]
  },
  {
   "cell_type": "code",
   "execution_count": 47,
   "id": "ab89cb57-6338-4400-b55b-4ba7fbd5695b",
   "metadata": {},
   "outputs": [
    {
     "name": "stdout",
     "output_type": "stream",
     "text": [
      "18660891, 210536\n"
     ]
    }
   ],
   "source": [
    "x  = 2761333+2735694+2688728+2661718+2660570+2618104+2534744\n",
    "y = 87944+69360+53232\n",
    "print(x, y, sep=', ')"
   ]
  },
  {
   "cell_type": "markdown",
   "id": "2676f55a-2c42-42d6-aa33-54257e81932e",
   "metadata": {},
   "source": [
    "## When looking into the error it looks like range does not include the last integer so the list is currently cutting off hours 16 and 5. We can fix this by increasing the range."
   ]
  },
  {
   "cell_type": "code",
   "execution_count": 52,
   "id": "265a1b23-c3d2-428c-a841-729d17da8695",
   "metadata": {},
   "outputs": [],
   "source": [
    "result3 = []\n",
    "\n",
    "for value in df_combined2[\"order_hour_of_day\"]:\n",
    "  if value in range(9, 17):\n",
    "    result3.append(\"Most orders\")\n",
    "  elif value in range(2, 6):\n",
    "    result3.append(\"Fewest orders\")\n",
    "  else:\n",
    "    result3.append(\"Average orders\")"
   ]
  },
  {
   "cell_type": "code",
   "execution_count": 53,
   "id": "afde0786-2172-4928-9b06-1e4dc6926040",
   "metadata": {},
   "outputs": [
    {
     "name": "stderr",
     "output_type": "stream",
     "text": [
      "C:\\Users\\Administrator\\AppData\\Local\\Temp\\ipykernel_21604\\1142162929.py:2: SettingWithCopyWarning: \n",
      "A value is trying to be set on a copy of a slice from a DataFrame.\n",
      "Try using .loc[row_indexer,col_indexer] = value instead\n",
      "\n",
      "See the caveats in the documentation: https://pandas.pydata.org/pandas-docs/stable/user_guide/indexing.html#returning-a-view-versus-a-copy\n",
      "  df_combined2['busiest_period_of_day'] = result3\n"
     ]
    },
    {
     "data": {
      "text/plain": [
       "busiest_period_of_day\n",
       "Most orders       21114733\n",
       "Average orders    11023195\n",
       "Fewest orders       261804\n",
       "Name: count, dtype: int64"
      ]
     },
     "execution_count": 53,
     "metadata": {},
     "output_type": "execute_result"
    }
   ],
   "source": [
    "#rechecking the results of the loop\n",
    "df_combined2['busiest_period_of_day'] = result3\n",
    "df_combined2['busiest_period_of_day'].value_counts(dropna =  False)"
   ]
  },
  {
   "cell_type": "markdown",
   "id": "2659485c-6d3e-4f44-82d0-8daf873aaa94",
   "metadata": {},
   "source": [
    "## this matchs the expected output in line 45 so we are good. This is also the answer to step 5"
   ]
  },
  {
   "cell_type": "code",
   "execution_count": 54,
   "id": "65374057-5842-4a72-83b8-68715cd99d9e",
   "metadata": {},
   "outputs": [
    {
     "data": {
      "text/html": [
       "<div>\n",
       "<style scoped>\n",
       "    .dataframe tbody tr th:only-of-type {\n",
       "        vertical-align: middle;\n",
       "    }\n",
       "\n",
       "    .dataframe tbody tr th {\n",
       "        vertical-align: top;\n",
       "    }\n",
       "\n",
       "    .dataframe thead th {\n",
       "        text-align: right;\n",
       "    }\n",
       "</style>\n",
       "<table border=\"1\" class=\"dataframe\">\n",
       "  <thead>\n",
       "    <tr style=\"text-align: right;\">\n",
       "      <th></th>\n",
       "      <th>order_id</th>\n",
       "      <th>user_id</th>\n",
       "      <th>order_number</th>\n",
       "      <th>order_dow</th>\n",
       "      <th>order_hour_of_day</th>\n",
       "      <th>days_since_prior_order</th>\n",
       "      <th>first_order</th>\n",
       "      <th>product_id</th>\n",
       "      <th>add_to_cart_order</th>\n",
       "      <th>reordered</th>\n",
       "      <th>product_name</th>\n",
       "      <th>aisle_id</th>\n",
       "      <th>department_id</th>\n",
       "      <th>prices</th>\n",
       "      <th>_merge</th>\n",
       "      <th>busiest_day</th>\n",
       "      <th>price_range_loc</th>\n",
       "      <th>busiest_period_of_day</th>\n",
       "    </tr>\n",
       "  </thead>\n",
       "  <tbody>\n",
       "    <tr>\n",
       "      <th>0</th>\n",
       "      <td>2539329</td>\n",
       "      <td>1</td>\n",
       "      <td>1</td>\n",
       "      <td>2</td>\n",
       "      <td>8</td>\n",
       "      <td>NaN</td>\n",
       "      <td>True</td>\n",
       "      <td>196</td>\n",
       "      <td>1</td>\n",
       "      <td>0</td>\n",
       "      <td>Soda</td>\n",
       "      <td>77</td>\n",
       "      <td>7</td>\n",
       "      <td>9.0</td>\n",
       "      <td>both</td>\n",
       "      <td>Regularly busy</td>\n",
       "      <td>Mid-range product</td>\n",
       "      <td>Average orders</td>\n",
       "    </tr>\n",
       "    <tr>\n",
       "      <th>1</th>\n",
       "      <td>2539329</td>\n",
       "      <td>1</td>\n",
       "      <td>1</td>\n",
       "      <td>2</td>\n",
       "      <td>8</td>\n",
       "      <td>NaN</td>\n",
       "      <td>True</td>\n",
       "      <td>14084</td>\n",
       "      <td>2</td>\n",
       "      <td>0</td>\n",
       "      <td>Organic Unsweetened Vanilla Almond Milk</td>\n",
       "      <td>91</td>\n",
       "      <td>16</td>\n",
       "      <td>12.5</td>\n",
       "      <td>both</td>\n",
       "      <td>Regularly busy</td>\n",
       "      <td>Mid-range product</td>\n",
       "      <td>Average orders</td>\n",
       "    </tr>\n",
       "    <tr>\n",
       "      <th>2</th>\n",
       "      <td>2539329</td>\n",
       "      <td>1</td>\n",
       "      <td>1</td>\n",
       "      <td>2</td>\n",
       "      <td>8</td>\n",
       "      <td>NaN</td>\n",
       "      <td>True</td>\n",
       "      <td>12427</td>\n",
       "      <td>3</td>\n",
       "      <td>0</td>\n",
       "      <td>Original Beef Jerky</td>\n",
       "      <td>23</td>\n",
       "      <td>19</td>\n",
       "      <td>4.4</td>\n",
       "      <td>both</td>\n",
       "      <td>Regularly busy</td>\n",
       "      <td>Low-range product</td>\n",
       "      <td>Average orders</td>\n",
       "    </tr>\n",
       "    <tr>\n",
       "      <th>3</th>\n",
       "      <td>2539329</td>\n",
       "      <td>1</td>\n",
       "      <td>1</td>\n",
       "      <td>2</td>\n",
       "      <td>8</td>\n",
       "      <td>NaN</td>\n",
       "      <td>True</td>\n",
       "      <td>26088</td>\n",
       "      <td>4</td>\n",
       "      <td>0</td>\n",
       "      <td>Aged White Cheddar Popcorn</td>\n",
       "      <td>23</td>\n",
       "      <td>19</td>\n",
       "      <td>4.7</td>\n",
       "      <td>both</td>\n",
       "      <td>Regularly busy</td>\n",
       "      <td>Low-range product</td>\n",
       "      <td>Average orders</td>\n",
       "    </tr>\n",
       "    <tr>\n",
       "      <th>4</th>\n",
       "      <td>2539329</td>\n",
       "      <td>1</td>\n",
       "      <td>1</td>\n",
       "      <td>2</td>\n",
       "      <td>8</td>\n",
       "      <td>NaN</td>\n",
       "      <td>True</td>\n",
       "      <td>26405</td>\n",
       "      <td>5</td>\n",
       "      <td>0</td>\n",
       "      <td>XL Pick-A-Size Paper Towel Rolls</td>\n",
       "      <td>54</td>\n",
       "      <td>17</td>\n",
       "      <td>1.0</td>\n",
       "      <td>both</td>\n",
       "      <td>Regularly busy</td>\n",
       "      <td>Low-range product</td>\n",
       "      <td>Average orders</td>\n",
       "    </tr>\n",
       "  </tbody>\n",
       "</table>\n",
       "</div>"
      ],
      "text/plain": [
       "   order_id  user_id  order_number  order_dow  order_hour_of_day  \\\n",
       "0   2539329        1             1          2                  8   \n",
       "1   2539329        1             1          2                  8   \n",
       "2   2539329        1             1          2                  8   \n",
       "3   2539329        1             1          2                  8   \n",
       "4   2539329        1             1          2                  8   \n",
       "\n",
       "   days_since_prior_order  first_order  product_id  add_to_cart_order  \\\n",
       "0                     NaN         True         196                  1   \n",
       "1                     NaN         True       14084                  2   \n",
       "2                     NaN         True       12427                  3   \n",
       "3                     NaN         True       26088                  4   \n",
       "4                     NaN         True       26405                  5   \n",
       "\n",
       "   reordered                             product_name  aisle_id  \\\n",
       "0          0                                     Soda        77   \n",
       "1          0  Organic Unsweetened Vanilla Almond Milk        91   \n",
       "2          0                      Original Beef Jerky        23   \n",
       "3          0               Aged White Cheddar Popcorn        23   \n",
       "4          0         XL Pick-A-Size Paper Towel Rolls        54   \n",
       "\n",
       "   department_id  prices _merge     busiest_day    price_range_loc  \\\n",
       "0              7     9.0   both  Regularly busy  Mid-range product   \n",
       "1             16    12.5   both  Regularly busy  Mid-range product   \n",
       "2             19     4.4   both  Regularly busy  Low-range product   \n",
       "3             19     4.7   both  Regularly busy  Low-range product   \n",
       "4             17     1.0   both  Regularly busy  Low-range product   \n",
       "\n",
       "  busiest_period_of_day  \n",
       "0        Average orders  \n",
       "1        Average orders  \n",
       "2        Average orders  \n",
       "3        Average orders  \n",
       "4        Average orders  "
      ]
     },
     "execution_count": 54,
     "metadata": {},
     "output_type": "execute_result"
    }
   ],
   "source": [
    "df_combined2.head()"
   ]
  },
  {
   "cell_type": "markdown",
   "id": "013d275f-59da-4f04-b917-3c9eeeedd985",
   "metadata": {},
   "source": [
    "# it's clear some earlier changes haven't stuck so doing them again here to export"
   ]
  },
  {
   "cell_type": "code",
   "execution_count": 55,
   "id": "44e779bc-94d8-4791-a68c-cabe6afac6d0",
   "metadata": {},
   "outputs": [
    {
     "data": {
      "text/html": [
       "<div>\n",
       "<style scoped>\n",
       "    .dataframe tbody tr th:only-of-type {\n",
       "        vertical-align: middle;\n",
       "    }\n",
       "\n",
       "    .dataframe tbody tr th {\n",
       "        vertical-align: top;\n",
       "    }\n",
       "\n",
       "    .dataframe thead th {\n",
       "        text-align: right;\n",
       "    }\n",
       "</style>\n",
       "<table border=\"1\" class=\"dataframe\">\n",
       "  <thead>\n",
       "    <tr style=\"text-align: right;\">\n",
       "      <th></th>\n",
       "      <th>order_id</th>\n",
       "      <th>user_id</th>\n",
       "      <th>order_number</th>\n",
       "      <th>orders_day_of_week</th>\n",
       "      <th>order_hour_of_day</th>\n",
       "      <th>days_since_prior_order</th>\n",
       "      <th>first_order</th>\n",
       "      <th>product_id</th>\n",
       "      <th>add_to_cart_order</th>\n",
       "      <th>reordered</th>\n",
       "      <th>product_name</th>\n",
       "      <th>aisle_id</th>\n",
       "      <th>department_id</th>\n",
       "      <th>prices</th>\n",
       "      <th>_merge</th>\n",
       "      <th>busiest_day</th>\n",
       "      <th>price_range_loc</th>\n",
       "      <th>busiest_period_of_day</th>\n",
       "    </tr>\n",
       "  </thead>\n",
       "  <tbody>\n",
       "    <tr>\n",
       "      <th>0</th>\n",
       "      <td>2539329</td>\n",
       "      <td>1</td>\n",
       "      <td>1</td>\n",
       "      <td>2</td>\n",
       "      <td>8</td>\n",
       "      <td>NaN</td>\n",
       "      <td>True</td>\n",
       "      <td>196</td>\n",
       "      <td>1</td>\n",
       "      <td>0</td>\n",
       "      <td>Soda</td>\n",
       "      <td>77</td>\n",
       "      <td>7</td>\n",
       "      <td>9.0</td>\n",
       "      <td>both</td>\n",
       "      <td>Regularly busy</td>\n",
       "      <td>Mid-range product</td>\n",
       "      <td>Average orders</td>\n",
       "    </tr>\n",
       "    <tr>\n",
       "      <th>1</th>\n",
       "      <td>2539329</td>\n",
       "      <td>1</td>\n",
       "      <td>1</td>\n",
       "      <td>2</td>\n",
       "      <td>8</td>\n",
       "      <td>NaN</td>\n",
       "      <td>True</td>\n",
       "      <td>14084</td>\n",
       "      <td>2</td>\n",
       "      <td>0</td>\n",
       "      <td>Organic Unsweetened Vanilla Almond Milk</td>\n",
       "      <td>91</td>\n",
       "      <td>16</td>\n",
       "      <td>12.5</td>\n",
       "      <td>both</td>\n",
       "      <td>Regularly busy</td>\n",
       "      <td>Mid-range product</td>\n",
       "      <td>Average orders</td>\n",
       "    </tr>\n",
       "    <tr>\n",
       "      <th>2</th>\n",
       "      <td>2539329</td>\n",
       "      <td>1</td>\n",
       "      <td>1</td>\n",
       "      <td>2</td>\n",
       "      <td>8</td>\n",
       "      <td>NaN</td>\n",
       "      <td>True</td>\n",
       "      <td>12427</td>\n",
       "      <td>3</td>\n",
       "      <td>0</td>\n",
       "      <td>Original Beef Jerky</td>\n",
       "      <td>23</td>\n",
       "      <td>19</td>\n",
       "      <td>4.4</td>\n",
       "      <td>both</td>\n",
       "      <td>Regularly busy</td>\n",
       "      <td>Low-range product</td>\n",
       "      <td>Average orders</td>\n",
       "    </tr>\n",
       "    <tr>\n",
       "      <th>3</th>\n",
       "      <td>2539329</td>\n",
       "      <td>1</td>\n",
       "      <td>1</td>\n",
       "      <td>2</td>\n",
       "      <td>8</td>\n",
       "      <td>NaN</td>\n",
       "      <td>True</td>\n",
       "      <td>26088</td>\n",
       "      <td>4</td>\n",
       "      <td>0</td>\n",
       "      <td>Aged White Cheddar Popcorn</td>\n",
       "      <td>23</td>\n",
       "      <td>19</td>\n",
       "      <td>4.7</td>\n",
       "      <td>both</td>\n",
       "      <td>Regularly busy</td>\n",
       "      <td>Low-range product</td>\n",
       "      <td>Average orders</td>\n",
       "    </tr>\n",
       "    <tr>\n",
       "      <th>4</th>\n",
       "      <td>2539329</td>\n",
       "      <td>1</td>\n",
       "      <td>1</td>\n",
       "      <td>2</td>\n",
       "      <td>8</td>\n",
       "      <td>NaN</td>\n",
       "      <td>True</td>\n",
       "      <td>26405</td>\n",
       "      <td>5</td>\n",
       "      <td>0</td>\n",
       "      <td>XL Pick-A-Size Paper Towel Rolls</td>\n",
       "      <td>54</td>\n",
       "      <td>17</td>\n",
       "      <td>1.0</td>\n",
       "      <td>both</td>\n",
       "      <td>Regularly busy</td>\n",
       "      <td>Low-range product</td>\n",
       "      <td>Average orders</td>\n",
       "    </tr>\n",
       "  </tbody>\n",
       "</table>\n",
       "</div>"
      ],
      "text/plain": [
       "   order_id  user_id  order_number  orders_day_of_week  order_hour_of_day  \\\n",
       "0   2539329        1             1                   2                  8   \n",
       "1   2539329        1             1                   2                  8   \n",
       "2   2539329        1             1                   2                  8   \n",
       "3   2539329        1             1                   2                  8   \n",
       "4   2539329        1             1                   2                  8   \n",
       "\n",
       "   days_since_prior_order  first_order  product_id  add_to_cart_order  \\\n",
       "0                     NaN         True         196                  1   \n",
       "1                     NaN         True       14084                  2   \n",
       "2                     NaN         True       12427                  3   \n",
       "3                     NaN         True       26088                  4   \n",
       "4                     NaN         True       26405                  5   \n",
       "\n",
       "   reordered                             product_name  aisle_id  \\\n",
       "0          0                                     Soda        77   \n",
       "1          0  Organic Unsweetened Vanilla Almond Milk        91   \n",
       "2          0                      Original Beef Jerky        23   \n",
       "3          0               Aged White Cheddar Popcorn        23   \n",
       "4          0         XL Pick-A-Size Paper Towel Rolls        54   \n",
       "\n",
       "   department_id  prices _merge     busiest_day    price_range_loc  \\\n",
       "0              7     9.0   both  Regularly busy  Mid-range product   \n",
       "1             16    12.5   both  Regularly busy  Mid-range product   \n",
       "2             19     4.4   both  Regularly busy  Low-range product   \n",
       "3             19     4.7   both  Regularly busy  Low-range product   \n",
       "4             17     1.0   both  Regularly busy  Low-range product   \n",
       "\n",
       "  busiest_period_of_day  \n",
       "0        Average orders  \n",
       "1        Average orders  \n",
       "2        Average orders  \n",
       "3        Average orders  \n",
       "4        Average orders  "
      ]
     },
     "execution_count": 55,
     "metadata": {},
     "output_type": "execute_result"
    }
   ],
   "source": [
    "df3 = df_combined2.rename(columns={'order_dow': 'orders_day_of_week'})\n",
    "df3.head()"
   ]
  },
  {
   "cell_type": "code",
   "execution_count": 56,
   "id": "39ddacc8-fa11-4e97-9f76-9f807ca47a43",
   "metadata": {},
   "outputs": [],
   "source": [
    "df3 = df3.astype({'order_id': 'str', 'user_id': 'str'})"
   ]
  },
  {
   "cell_type": "code",
   "execution_count": 57,
   "id": "c347c8e0-3071-402a-afcc-10afb18cfa18",
   "metadata": {},
   "outputs": [
    {
     "data": {
      "text/html": [
       "<div>\n",
       "<style scoped>\n",
       "    .dataframe tbody tr th:only-of-type {\n",
       "        vertical-align: middle;\n",
       "    }\n",
       "\n",
       "    .dataframe tbody tr th {\n",
       "        vertical-align: top;\n",
       "    }\n",
       "\n",
       "    .dataframe thead th {\n",
       "        text-align: right;\n",
       "    }\n",
       "</style>\n",
       "<table border=\"1\" class=\"dataframe\">\n",
       "  <thead>\n",
       "    <tr style=\"text-align: right;\">\n",
       "      <th></th>\n",
       "      <th>order_id</th>\n",
       "      <th>user_id</th>\n",
       "      <th>order_number</th>\n",
       "      <th>orders_day_of_week</th>\n",
       "      <th>order_hour_of_day</th>\n",
       "      <th>days_since_prior_order</th>\n",
       "      <th>first_order</th>\n",
       "      <th>product_id</th>\n",
       "      <th>add_to_cart_order</th>\n",
       "      <th>reordered</th>\n",
       "      <th>product_name</th>\n",
       "      <th>aisle_id</th>\n",
       "      <th>department_id</th>\n",
       "      <th>prices</th>\n",
       "      <th>_merge</th>\n",
       "      <th>busiest_day</th>\n",
       "      <th>price_range_loc</th>\n",
       "      <th>busiest_period_of_day</th>\n",
       "    </tr>\n",
       "  </thead>\n",
       "  <tbody>\n",
       "    <tr>\n",
       "      <th>0</th>\n",
       "      <td>2539329</td>\n",
       "      <td>1</td>\n",
       "      <td>1</td>\n",
       "      <td>2</td>\n",
       "      <td>8</td>\n",
       "      <td>NaN</td>\n",
       "      <td>True</td>\n",
       "      <td>196</td>\n",
       "      <td>1</td>\n",
       "      <td>0</td>\n",
       "      <td>Soda</td>\n",
       "      <td>77</td>\n",
       "      <td>7</td>\n",
       "      <td>9.0</td>\n",
       "      <td>both</td>\n",
       "      <td>Regularly busy</td>\n",
       "      <td>Mid-range product</td>\n",
       "      <td>Average orders</td>\n",
       "    </tr>\n",
       "    <tr>\n",
       "      <th>1</th>\n",
       "      <td>2539329</td>\n",
       "      <td>1</td>\n",
       "      <td>1</td>\n",
       "      <td>2</td>\n",
       "      <td>8</td>\n",
       "      <td>NaN</td>\n",
       "      <td>True</td>\n",
       "      <td>14084</td>\n",
       "      <td>2</td>\n",
       "      <td>0</td>\n",
       "      <td>Organic Unsweetened Vanilla Almond Milk</td>\n",
       "      <td>91</td>\n",
       "      <td>16</td>\n",
       "      <td>12.5</td>\n",
       "      <td>both</td>\n",
       "      <td>Regularly busy</td>\n",
       "      <td>Mid-range product</td>\n",
       "      <td>Average orders</td>\n",
       "    </tr>\n",
       "    <tr>\n",
       "      <th>2</th>\n",
       "      <td>2539329</td>\n",
       "      <td>1</td>\n",
       "      <td>1</td>\n",
       "      <td>2</td>\n",
       "      <td>8</td>\n",
       "      <td>NaN</td>\n",
       "      <td>True</td>\n",
       "      <td>12427</td>\n",
       "      <td>3</td>\n",
       "      <td>0</td>\n",
       "      <td>Original Beef Jerky</td>\n",
       "      <td>23</td>\n",
       "      <td>19</td>\n",
       "      <td>4.4</td>\n",
       "      <td>both</td>\n",
       "      <td>Regularly busy</td>\n",
       "      <td>Low-range product</td>\n",
       "      <td>Average orders</td>\n",
       "    </tr>\n",
       "    <tr>\n",
       "      <th>3</th>\n",
       "      <td>2539329</td>\n",
       "      <td>1</td>\n",
       "      <td>1</td>\n",
       "      <td>2</td>\n",
       "      <td>8</td>\n",
       "      <td>NaN</td>\n",
       "      <td>True</td>\n",
       "      <td>26088</td>\n",
       "      <td>4</td>\n",
       "      <td>0</td>\n",
       "      <td>Aged White Cheddar Popcorn</td>\n",
       "      <td>23</td>\n",
       "      <td>19</td>\n",
       "      <td>4.7</td>\n",
       "      <td>both</td>\n",
       "      <td>Regularly busy</td>\n",
       "      <td>Low-range product</td>\n",
       "      <td>Average orders</td>\n",
       "    </tr>\n",
       "    <tr>\n",
       "      <th>4</th>\n",
       "      <td>2539329</td>\n",
       "      <td>1</td>\n",
       "      <td>1</td>\n",
       "      <td>2</td>\n",
       "      <td>8</td>\n",
       "      <td>NaN</td>\n",
       "      <td>True</td>\n",
       "      <td>26405</td>\n",
       "      <td>5</td>\n",
       "      <td>0</td>\n",
       "      <td>XL Pick-A-Size Paper Towel Rolls</td>\n",
       "      <td>54</td>\n",
       "      <td>17</td>\n",
       "      <td>1.0</td>\n",
       "      <td>both</td>\n",
       "      <td>Regularly busy</td>\n",
       "      <td>Low-range product</td>\n",
       "      <td>Average orders</td>\n",
       "    </tr>\n",
       "  </tbody>\n",
       "</table>\n",
       "</div>"
      ],
      "text/plain": [
       "  order_id user_id  order_number  orders_day_of_week  order_hour_of_day  \\\n",
       "0  2539329       1             1                   2                  8   \n",
       "1  2539329       1             1                   2                  8   \n",
       "2  2539329       1             1                   2                  8   \n",
       "3  2539329       1             1                   2                  8   \n",
       "4  2539329       1             1                   2                  8   \n",
       "\n",
       "   days_since_prior_order  first_order  product_id  add_to_cart_order  \\\n",
       "0                     NaN         True         196                  1   \n",
       "1                     NaN         True       14084                  2   \n",
       "2                     NaN         True       12427                  3   \n",
       "3                     NaN         True       26088                  4   \n",
       "4                     NaN         True       26405                  5   \n",
       "\n",
       "   reordered                             product_name  aisle_id  \\\n",
       "0          0                                     Soda        77   \n",
       "1          0  Organic Unsweetened Vanilla Almond Milk        91   \n",
       "2          0                      Original Beef Jerky        23   \n",
       "3          0               Aged White Cheddar Popcorn        23   \n",
       "4          0         XL Pick-A-Size Paper Towel Rolls        54   \n",
       "\n",
       "   department_id  prices _merge     busiest_day    price_range_loc  \\\n",
       "0              7     9.0   both  Regularly busy  Mid-range product   \n",
       "1             16    12.5   both  Regularly busy  Mid-range product   \n",
       "2             19     4.4   both  Regularly busy  Low-range product   \n",
       "3             19     4.7   both  Regularly busy  Low-range product   \n",
       "4             17     1.0   both  Regularly busy  Low-range product   \n",
       "\n",
       "  busiest_period_of_day  \n",
       "0        Average orders  \n",
       "1        Average orders  \n",
       "2        Average orders  \n",
       "3        Average orders  \n",
       "4        Average orders  "
      ]
     },
     "execution_count": 57,
     "metadata": {},
     "output_type": "execute_result"
    }
   ],
   "source": [
    "df3.head()"
   ]
  },
  {
   "cell_type": "markdown",
   "id": "750a2f0f-cca8-4cd6-a673-06e256d0076c",
   "metadata": {},
   "source": [
    "## Exporting new changes"
   ]
  },
  {
   "cell_type": "code",
   "execution_count": 58,
   "id": "0179a278-fd78-4cda-a718-1416f38dd629",
   "metadata": {},
   "outputs": [],
   "source": [
    "df3.to_pickle(os.path.join(path, '02 Data', 'Prepared Data', 'df_combined.pkl'))"
   ]
  },
  {
   "cell_type": "code",
   "execution_count": 2,
   "id": "60531164-96be-4aed-906f-7c72da87df98",
   "metadata": {},
   "outputs": [
    {
     "ename": "NameError",
     "evalue": "name 'df_combined' is not defined",
     "output_type": "error",
     "traceback": [
      "\u001b[1;31m---------------------------------------------------------------------------\u001b[0m",
      "\u001b[1;31mNameError\u001b[0m                                 Traceback (most recent call last)",
      "Cell \u001b[1;32mIn[2], line 1\u001b[0m\n\u001b[1;32m----> 1\u001b[0m df_combined\u001b[38;5;241m.\u001b[39mshape()\n",
      "\u001b[1;31mNameError\u001b[0m: name 'df_combined' is not defined"
     ]
    }
   ],
   "source": [
    "df_combined.shape()"
   ]
  },
  {
   "cell_type": "code",
   "execution_count": null,
   "id": "2e382a9e-52de-442f-b6f9-054bc583fd83",
   "metadata": {},
   "outputs": [],
   "source": []
  }
 ],
 "metadata": {
  "kernelspec": {
   "display_name": "Python 3 (ipykernel)",
   "language": "python",
   "name": "python3"
  },
  "language_info": {
   "codemirror_mode": {
    "name": "ipython",
    "version": 3
   },
   "file_extension": ".py",
   "mimetype": "text/x-python",
   "name": "python",
   "nbconvert_exporter": "python",
   "pygments_lexer": "ipython3",
   "version": "3.12.3"
  },
  "toc": {
   "base_numbering": 1,
   "nav_menu": {},
   "number_sections": true,
   "sideBar": true,
   "skip_h1_title": false,
   "title_cell": "Table of Contents",
   "title_sidebar": "Contents",
   "toc_cell": false,
   "toc_position": {
    "height": "calc(100% - 180px)",
    "left": "10px",
    "top": "150px",
    "width": "639.5px"
   },
   "toc_section_display": true,
   "toc_window_display": true
  }
 },
 "nbformat": 4,
 "nbformat_minor": 5
}
